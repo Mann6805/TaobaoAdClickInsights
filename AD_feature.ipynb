{
 "cells": [
  {
   "cell_type": "markdown",
   "id": "6bec94cb-dd1e-4be3-91d2-e7ea600f4a39",
   "metadata": {},
   "source": [
    "### Importing Libraries"
   ]
  },
  {
   "cell_type": "code",
   "execution_count": 1,
   "id": "0ad06328-ae1a-4eba-b2a8-080383ac8e08",
   "metadata": {},
   "outputs": [],
   "source": [
    "import pandas as pd\n",
    "import numpy as np\n",
    "import matplotlib.pyplot as plt\n",
    "import seaborn as sns"
   ]
  },
  {
   "cell_type": "markdown",
   "id": "4ee1c750-f112-4e5d-a2f3-9c37b40f9b66",
   "metadata": {},
   "source": [
    "### Loading and describing data"
   ]
  },
  {
   "cell_type": "code",
   "execution_count": 2,
   "id": "0de83ee2-1ea4-4f1f-af91-434ed999fc64",
   "metadata": {},
   "outputs": [],
   "source": [
    "ad_features_df = pd.read_csv('ad_feature.csv')"
   ]
  },
  {
   "cell_type": "code",
   "execution_count": 3,
   "id": "4fb922b0-6b1a-4cee-9afe-909eebbdf6ec",
   "metadata": {},
   "outputs": [
    {
     "data": {
      "text/html": [
       "<div>\n",
       "<style scoped>\n",
       "    .dataframe tbody tr th:only-of-type {\n",
       "        vertical-align: middle;\n",
       "    }\n",
       "\n",
       "    .dataframe tbody tr th {\n",
       "        vertical-align: top;\n",
       "    }\n",
       "\n",
       "    .dataframe thead th {\n",
       "        text-align: right;\n",
       "    }\n",
       "</style>\n",
       "<table border=\"1\" class=\"dataframe\">\n",
       "  <thead>\n",
       "    <tr style=\"text-align: right;\">\n",
       "      <th></th>\n",
       "      <th>adgroup_id</th>\n",
       "      <th>cate_id</th>\n",
       "      <th>campaign_id</th>\n",
       "      <th>customer</th>\n",
       "      <th>brand</th>\n",
       "      <th>price</th>\n",
       "    </tr>\n",
       "  </thead>\n",
       "  <tbody>\n",
       "    <tr>\n",
       "      <th>count</th>\n",
       "      <td>846811.000000</td>\n",
       "      <td>846811.000000</td>\n",
       "      <td>846811.000000</td>\n",
       "      <td>846811.000000</td>\n",
       "      <td>600481.000000</td>\n",
       "      <td>8.468110e+05</td>\n",
       "    </tr>\n",
       "    <tr>\n",
       "      <th>mean</th>\n",
       "      <td>423406.000000</td>\n",
       "      <td>5868.593464</td>\n",
       "      <td>206552.604280</td>\n",
       "      <td>113180.406006</td>\n",
       "      <td>229254.422596</td>\n",
       "      <td>1.838867e+03</td>\n",
       "    </tr>\n",
       "    <tr>\n",
       "      <th>std</th>\n",
       "      <td>244453.423738</td>\n",
       "      <td>2705.171203</td>\n",
       "      <td>125192.340908</td>\n",
       "      <td>73435.834950</td>\n",
       "      <td>132288.849633</td>\n",
       "      <td>3.108877e+05</td>\n",
       "    </tr>\n",
       "    <tr>\n",
       "      <th>min</th>\n",
       "      <td>1.000000</td>\n",
       "      <td>1.000000</td>\n",
       "      <td>1.000000</td>\n",
       "      <td>1.000000</td>\n",
       "      <td>2.000000</td>\n",
       "      <td>1.000000e-02</td>\n",
       "    </tr>\n",
       "    <tr>\n",
       "      <th>25%</th>\n",
       "      <td>211703.500000</td>\n",
       "      <td>4383.000000</td>\n",
       "      <td>97583.000000</td>\n",
       "      <td>47960.000000</td>\n",
       "      <td>110616.000000</td>\n",
       "      <td>4.900000e+01</td>\n",
       "    </tr>\n",
       "    <tr>\n",
       "      <th>50%</th>\n",
       "      <td>423406.000000</td>\n",
       "      <td>6183.000000</td>\n",
       "      <td>200780.000000</td>\n",
       "      <td>107278.000000</td>\n",
       "      <td>234423.000000</td>\n",
       "      <td>1.390000e+02</td>\n",
       "    </tr>\n",
       "    <tr>\n",
       "      <th>75%</th>\n",
       "      <td>635108.500000</td>\n",
       "      <td>7047.000000</td>\n",
       "      <td>314565.500000</td>\n",
       "      <td>172013.500000</td>\n",
       "      <td>344818.000000</td>\n",
       "      <td>3.520000e+02</td>\n",
       "    </tr>\n",
       "    <tr>\n",
       "      <th>max</th>\n",
       "      <td>846811.000000</td>\n",
       "      <td>12960.000000</td>\n",
       "      <td>423436.000000</td>\n",
       "      <td>255875.000000</td>\n",
       "      <td>461497.000000</td>\n",
       "      <td>1.000000e+08</td>\n",
       "    </tr>\n",
       "  </tbody>\n",
       "</table>\n",
       "</div>"
      ],
      "text/plain": [
       "          adgroup_id        cate_id    campaign_id       customer  \\\n",
       "count  846811.000000  846811.000000  846811.000000  846811.000000   \n",
       "mean   423406.000000    5868.593464  206552.604280  113180.406006   \n",
       "std    244453.423738    2705.171203  125192.340908   73435.834950   \n",
       "min         1.000000       1.000000       1.000000       1.000000   \n",
       "25%    211703.500000    4383.000000   97583.000000   47960.000000   \n",
       "50%    423406.000000    6183.000000  200780.000000  107278.000000   \n",
       "75%    635108.500000    7047.000000  314565.500000  172013.500000   \n",
       "max    846811.000000   12960.000000  423436.000000  255875.000000   \n",
       "\n",
       "               brand         price  \n",
       "count  600481.000000  8.468110e+05  \n",
       "mean   229254.422596  1.838867e+03  \n",
       "std    132288.849633  3.108877e+05  \n",
       "min         2.000000  1.000000e-02  \n",
       "25%    110616.000000  4.900000e+01  \n",
       "50%    234423.000000  1.390000e+02  \n",
       "75%    344818.000000  3.520000e+02  \n",
       "max    461497.000000  1.000000e+08  "
      ]
     },
     "execution_count": 3,
     "metadata": {},
     "output_type": "execute_result"
    }
   ],
   "source": [
    "ad_features_df.describe()"
   ]
  },
  {
   "cell_type": "code",
   "execution_count": 4,
   "id": "7b4eb245-7daa-4d86-bb0e-19659a7460ad",
   "metadata": {},
   "outputs": [
    {
     "name": "stdout",
     "output_type": "stream",
     "text": [
      "<class 'pandas.core.frame.DataFrame'>\n",
      "RangeIndex: 846811 entries, 0 to 846810\n",
      "Data columns (total 6 columns):\n",
      " #   Column       Non-Null Count   Dtype  \n",
      "---  ------       --------------   -----  \n",
      " 0   adgroup_id   846811 non-null  int64  \n",
      " 1   cate_id      846811 non-null  int64  \n",
      " 2   campaign_id  846811 non-null  int64  \n",
      " 3   customer     846811 non-null  int64  \n",
      " 4   brand        600481 non-null  float64\n",
      " 5   price        846811 non-null  float64\n",
      "dtypes: float64(2), int64(4)\n",
      "memory usage: 38.8 MB\n"
     ]
    }
   ],
   "source": [
    "ad_features_df.info()"
   ]
  },
  {
   "cell_type": "code",
   "execution_count": 5,
   "id": "552bf5c3-ec5f-42b1-9791-5de48c6664fd",
   "metadata": {},
   "outputs": [
    {
     "data": {
      "image/png": "[encoded data removed]",
      "text/plain": [
       "<Figure size 1000x600 with 1 Axes>"
      ]
     },
     "metadata": {},
     "output_type": "display_data"
    }
   ],
   "source": [
    "sns.set_style(\"darkgrid\")\n",
    "\n",
    "plt.figure(figsize=(10, 6))\n",
    "sns.boxplot(\n",
    "    x=ad_features_df['price'],\n",
    "    color=\"#4C72B0\",\n",
    "    fliersize=4,\n",
    "    flierprops=dict(\n",
    "        marker='o',\n",
    "        markerfacecolor='#E76F51',\n",
    "        markeredgecolor='#E76F51',\n",
    "        markersize=6,\n",
    "        linestyle='none'\n",
    "    )\n",
    ")\n",
    "\n",
    "plt.title('Boxplot of Price Distribution (With Outliers)', fontsize=14)\n",
    "plt.xlabel('Price', fontsize=12)\n",
    "plt.grid(axis='x', linestyle='--', alpha=0.4)\n",
    "plt.tight_layout()\n",
    "\n",
    "plt.savefig(\"graphs/price_boxplot.png\", dpi=300, bbox_inches='tight')\n",
    "\n",
    "plt.show()"
   ]
  },
  {
   "cell_type": "code",
   "execution_count": 6,
   "id": "da2a3343-5a1a-4183-a26b-4dee33d3e537",
   "metadata": {},
   "outputs": [
    {
     "name": "stdout",
     "output_type": "stream",
     "text": [
      "Original DataFrame shape: (846811, 6)\n",
      "DataFrame shape after removing outliers: (807506, 6)\n"
     ]
    }
   ],
   "source": [
    "Q1 = ad_features_df['price'].quantile(0.10)\n",
    "Q3 = ad_features_df['price'].quantile(0.90)\n",
    "IQR = Q3 - Q1\n",
    "\n",
    "lower_bound = Q1 - 1.5 * IQR\n",
    "upper_bound = Q3 + 1.5 * IQR\n",
    "\n",
    "ad_features_cleaned_df = ad_features_df[(ad_features_df['price'] >= lower_bound) & (ad_features_df['price'] <= upper_bound)]\n",
    "ad_features_cleaned_df = ad_features_cleaned_df.reset_index(drop=True)\n",
    "\n",
    "print(f\"Original DataFrame shape: {ad_features_df.shape}\")\n",
    "print(f\"DataFrame shape after removing outliers: {ad_features_cleaned_df.shape}\")"
   ]
  },
  {
   "cell_type": "code",
   "execution_count": 7,
   "id": "eaac7b29-b8dd-4193-83df-3d4126be3065",
   "metadata": {},
   "outputs": [
    {
     "data": {
      "image/png": "[encoded data removed]",
      "text/plain": [
       "<Figure size 1000x600 with 1 Axes>"
      ]
     },
     "metadata": {},
     "output_type": "display_data"
    }
   ],
   "source": [
    "plt.figure(figsize=(10, 6))\n",
    "sns.boxplot(\n",
    "    x=ad_features_cleaned_df['price'],\n",
    "    color=\"#4C72B0\",\n",
    "    fliersize=4,\n",
    "    flierprops=dict(\n",
    "        marker='o',\n",
    "        markerfacecolor='#E76F51',\n",
    "        markeredgecolor='#E76F51',\n",
    "        markersize=6,\n",
    "        linestyle='none'\n",
    "    )\n",
    ")\n",
    "\n",
    "plt.title('Boxplot of Price Distribution (Without Outliers)', fontsize=14)\n",
    "plt.xlabel('Price', fontsize=12)\n",
    "plt.grid(axis='x', linestyle='--', alpha=0.4)\n",
    "plt.tight_layout()\n",
    "\n",
    "plt.savefig(\"graphs/price_boxplot.png\", dpi=300, bbox_inches='tight')\n",
    "\n",
    "plt.show()"
   ]
  },
  {
   "cell_type": "code",
   "execution_count": 8,
   "id": "dc3da83c-2ab5-431c-8fe7-69ce83a2d433",
   "metadata": {},
   "outputs": [
    {
     "name": "stdout",
     "output_type": "stream",
     "text": [
      "<class 'pandas.core.frame.DataFrame'>\n",
      "RangeIndex: 807506 entries, 0 to 807505\n",
      "Data columns (total 6 columns):\n",
      " #   Column       Non-Null Count   Dtype  \n",
      "---  ------       --------------   -----  \n",
      " 0   adgroup_id   807506 non-null  int64  \n",
      " 1   cate_id      807506 non-null  int64  \n",
      " 2   campaign_id  807506 non-null  int64  \n",
      " 3   customer     807506 non-null  int64  \n",
      " 4   brand        565851 non-null  float64\n",
      " 5   price        807506 non-null  float64\n",
      "dtypes: float64(2), int64(4)\n",
      "memory usage: 37.0 MB\n"
     ]
    }
   ],
   "source": [
    "ad_features_cleaned_df.info()"
   ]
  },
  {
   "cell_type": "code",
   "execution_count": 9,
   "id": "a0cc0a4f-251e-4ae1-a326-0330badce920",
   "metadata": {},
   "outputs": [
    {
     "name": "stdout",
     "output_type": "stream",
     "text": [
      "Missing values in 'brand': 241655\n"
     ]
    }
   ],
   "source": [
    "missing_values_in_brand = ad_features_cleaned_df['brand'].isnull().sum()\n",
    "print(f\"Missing values in 'brand': {missing_values_in_brand}\")"
   ]
  },
  {
   "cell_type": "code",
   "execution_count": 10,
   "id": "5c32cd50-9450-4d4e-9da7-d72549b6de39",
   "metadata": {},
   "outputs": [
    {
     "name": "stdout",
     "output_type": "stream",
     "text": [
      "<class 'pandas.core.frame.DataFrame'>\n",
      "RangeIndex: 807506 entries, 0 to 807505\n",
      "Data columns (total 6 columns):\n",
      " #   Column       Non-Null Count   Dtype\n",
      "---  ------       --------------   -----\n",
      " 0   adgroup_id   807506 non-null  int64\n",
      " 1   cate_id      807506 non-null  int64\n",
      " 2   campaign_id  807506 non-null  int64\n",
      " 3   customer     807506 non-null  int64\n",
      " 4   brand        565851 non-null  Int64\n",
      " 5   price        807506 non-null  int64\n",
      "dtypes: Int64(1), int64(5)\n",
      "memory usage: 37.7 MB\n"
     ]
    }
   ],
   "source": [
    "ad_features_cleaned_df['brand'] = ad_features_cleaned_df['brand'].astype('Int64')\n",
    "ad_features_cleaned_df['price'] = ad_features_cleaned_df['price'].astype('int64')\n",
    "ad_features_cleaned_df.info()"
   ]
  },
  {
   "cell_type": "code",
   "execution_count": 11,
   "id": "51a93836-8b21-4785-9dd2-bc9ab0c23032",
   "metadata": {},
   "outputs": [
    {
     "name": "stdout",
     "output_type": "stream",
     "text": [
      "Processed batch 1/25\n",
      "Processed batch 2/25\n",
      "Processed batch 3/25\n",
      "Processed batch 4/25\n",
      "Processed batch 5/25\n",
      "Processed batch 6/25\n",
      "Processed batch 7/25\n",
      "Processed batch 8/25\n",
      "Processed batch 9/25\n",
      "Processed batch 10/25\n",
      "Processed batch 11/25\n",
      "Processed batch 12/25\n",
      "Processed batch 13/25\n",
      "Processed batch 14/25\n",
      "Processed batch 15/25\n",
      "Processed batch 16/25\n",
      "Processed batch 17/25\n",
      "Processed batch 18/25\n",
      "Processed batch 19/25\n",
      "Processed batch 20/25\n",
      "Processed batch 21/25\n",
      "Processed batch 22/25\n",
      "Processed batch 23/25\n",
      "Processed batch 24/25\n",
      "Processed batch 25/25\n",
      "Missing brand values filled using FAISS with Euclidean similarity.\n"
     ]
    }
   ],
   "source": [
    "import faiss\n",
    "import numpy as np\n",
    "import pandas as pd\n",
    "\n",
    "features = ['adgroup_id', 'cate_id', 'campaign_id', 'customer', 'price']\n",
    "\n",
    "for col in features:\n",
    "    ad_features_cleaned_df[col] = pd.to_numeric(ad_features_cleaned_df[col], downcast='unsigned')\n",
    "\n",
    "missing_brand_df = ad_features_cleaned_df[ad_features_cleaned_df['brand'].isnull()]\n",
    "non_missing_brand_df = ad_features_cleaned_df[ad_features_cleaned_df['brand'].notnull()]\n",
    "\n",
    "X = non_missing_brand_df[features].values\n",
    "y = non_missing_brand_df['brand'].values\n",
    "X_missing = missing_brand_df[features].values\n",
    "\n",
    "X = X.astype(np.float32)\n",
    "X_missing = X_missing.astype(np.float32)\n",
    "\n",
    "index = faiss.IndexFlatL2(X.shape[1])\n",
    "index.add(X)\n",
    "\n",
    "batch_size = 10000\n",
    "num_batches = len(X_missing) // batch_size + (1 if len(X_missing) % batch_size != 0 else 0)\n",
    "\n",
    "for i in range(num_batches):\n",
    "    start_idx = i * batch_size\n",
    "    end_idx = min((i + 1) * batch_size, len(X_missing))\n",
    "\n",
    "    X_missing_batch = X_missing[start_idx:end_idx]\n",
    "\n",
    "    distances, indices = index.search(X_missing_batch, 1)\n",
    "\n",
    "    predicted_brands = y[indices.flatten()]\n",
    "\n",
    "    ad_features_cleaned_df.loc[missing_brand_df.index[start_idx:end_idx], 'brand'] = predicted_brands\n",
    "\n",
    "    print(f\"Processed batch {i + 1}/{num_batches}\")\n",
    "\n",
    "print(\"Missing brand values filled using FAISS with Euclidean similarity.\")"
   ]
  },
  {
   "cell_type": "code",
   "execution_count": 12,
   "id": "f4503371-65c6-4902-aee8-93919103f995",
   "metadata": {},
   "outputs": [
    {
     "name": "stdout",
     "output_type": "stream",
     "text": [
      "<class 'pandas.core.frame.DataFrame'>\n",
      "RangeIndex: 807506 entries, 0 to 807505\n",
      "Data columns (total 6 columns):\n",
      " #   Column       Non-Null Count   Dtype \n",
      "---  ------       --------------   ----- \n",
      " 0   adgroup_id   807506 non-null  uint32\n",
      " 1   cate_id      807506 non-null  uint16\n",
      " 2   campaign_id  807506 non-null  uint32\n",
      " 3   customer     807506 non-null  uint32\n",
      " 4   brand        807506 non-null  Int64 \n",
      " 5   price        807506 non-null  uint16\n",
      "dtypes: Int64(1), uint16(2), uint32(3)\n",
      "memory usage: 19.3 MB\n"
     ]
    }
   ],
   "source": [
    "ad_features_cleaned_df.info()"
   ]
  },
  {
   "cell_type": "code",
   "execution_count": 14,
   "id": "7fcea827-5717-433a-9c73-d3ad2cc1f48a",
   "metadata": {},
   "outputs": [],
   "source": [
    "import os\n",
    "os.makedirs('preprocessed', exist_ok=True)\n",
    "ad_features_cleaned_df.to_csv('preprocessed/ad_features_final.csv', index=False)"
   ]
  }
 ],
 "metadata": {
  "kernelspec": {
   "display_name": "Python 3 (ipykernel)",
   "language": "python",
   "name": "python3"
  },
  "language_info": {
   "codemirror_mode": {
    "name": "ipython",
    "version": 3
   },
   "file_extension": ".py",
   "mimetype": "text/x-python",
   "name": "python",
   "nbconvert_exporter": "python",
   "pygments_lexer": "ipython3",
   "version": "3.12.3"
  }
 },
 "nbformat": 4,
 "nbformat_minor": 5
}
