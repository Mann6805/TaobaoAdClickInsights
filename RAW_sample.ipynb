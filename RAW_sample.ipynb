{
 "cells": [
  {
   "cell_type": "markdown",
   "id": "85fee30b-b6ea-45d8-956d-1b15ced26f7b",
   "metadata": {},
   "source": [
    "### Importing Libraries"
   ]
  },
  {
   "cell_type": "code",
   "execution_count": 1,
   "id": "37b311fe-073a-4a55-9c2b-8594b1944b31",
   "metadata": {},
   "outputs": [],
   "source": [
    "import pandas as pd\n",
    "import numpy as np\n",
    "import matplotlib.pyplot as plt\n",
    "import seaborn as sns"
   ]
  },
  {
   "cell_type": "markdown",
   "id": "4b287b5b-aaed-4254-ae74-042c059638bc",
   "metadata": {},
   "source": [
    "### Loading and describing data"
   ]
  },
  {
   "cell_type": "code",
   "execution_count": 2,
   "id": "bd693597-d930-4046-9df3-46f21be768da",
   "metadata": {},
   "outputs": [],
   "source": [
    "raw_sample_df = pd.read_csv('raw_sample.csv')"
   ]
  },
  {
   "cell_type": "code",
   "execution_count": 3,
   "id": "f76fe279-8c1c-4a51-bbfa-3bb7f5ec3c32",
   "metadata": {},
   "outputs": [
    {
     "data": {
      "text/html": [
       "<div>\n",
       "<style scoped>\n",
       "    .dataframe tbody tr th:only-of-type {\n",
       "        vertical-align: middle;\n",
       "    }\n",
       "\n",
       "    .dataframe tbody tr th {\n",
       "        vertical-align: top;\n",
       "    }\n",
       "\n",
       "    .dataframe thead th {\n",
       "        text-align: right;\n",
       "    }\n",
       "</style>\n",
       "<table border=\"1\" class=\"dataframe\">\n",
       "  <thead>\n",
       "    <tr style=\"text-align: right;\">\n",
       "      <th></th>\n",
       "      <th>user</th>\n",
       "      <th>time_stamp</th>\n",
       "      <th>adgroup_id</th>\n",
       "      <th>nonclk</th>\n",
       "      <th>clk</th>\n",
       "    </tr>\n",
       "  </thead>\n",
       "  <tbody>\n",
       "    <tr>\n",
       "      <th>count</th>\n",
       "      <td>2.655796e+07</td>\n",
       "      <td>2.655796e+07</td>\n",
       "      <td>2.655796e+07</td>\n",
       "      <td>2.655796e+07</td>\n",
       "      <td>2.655796e+07</td>\n",
       "    </tr>\n",
       "    <tr>\n",
       "      <th>mean</th>\n",
       "      <td>5.682055e+05</td>\n",
       "      <td>1.494355e+09</td>\n",
       "      <td>5.130175e+05</td>\n",
       "      <td>9.485632e-01</td>\n",
       "      <td>5.143678e-02</td>\n",
       "    </tr>\n",
       "    <tr>\n",
       "      <th>std</th>\n",
       "      <td>3.297502e+05</td>\n",
       "      <td>1.987553e+05</td>\n",
       "      <td>2.183782e+05</td>\n",
       "      <td>2.208869e-01</td>\n",
       "      <td>2.208869e-01</td>\n",
       "    </tr>\n",
       "    <tr>\n",
       "      <th>min</th>\n",
       "      <td>1.000000e+00</td>\n",
       "      <td>1.494000e+09</td>\n",
       "      <td>1.000000e+00</td>\n",
       "      <td>0.000000e+00</td>\n",
       "      <td>0.000000e+00</td>\n",
       "    </tr>\n",
       "    <tr>\n",
       "      <th>25%</th>\n",
       "      <td>2.829190e+05</td>\n",
       "      <td>1.494171e+09</td>\n",
       "      <td>3.606780e+05</td>\n",
       "      <td>1.000000e+00</td>\n",
       "      <td>0.000000e+00</td>\n",
       "    </tr>\n",
       "    <tr>\n",
       "      <th>50%</th>\n",
       "      <td>5.649520e+05</td>\n",
       "      <td>1.494345e+09</td>\n",
       "      <td>5.638330e+05</td>\n",
       "      <td>1.000000e+00</td>\n",
       "      <td>0.000000e+00</td>\n",
       "    </tr>\n",
       "    <tr>\n",
       "      <th>75%</th>\n",
       "      <td>8.521910e+05</td>\n",
       "      <td>1.494516e+09</td>\n",
       "      <td>6.867050e+05</td>\n",
       "      <td>1.000000e+00</td>\n",
       "      <td>0.000000e+00</td>\n",
       "    </tr>\n",
       "    <tr>\n",
       "      <th>max</th>\n",
       "      <td>1.141729e+06</td>\n",
       "      <td>1.494691e+09</td>\n",
       "      <td>8.468110e+05</td>\n",
       "      <td>1.000000e+00</td>\n",
       "      <td>1.000000e+00</td>\n",
       "    </tr>\n",
       "  </tbody>\n",
       "</table>\n",
       "</div>"
      ],
      "text/plain": [
       "               user    time_stamp    adgroup_id        nonclk           clk\n",
       "count  2.655796e+07  2.655796e+07  2.655796e+07  2.655796e+07  2.655796e+07\n",
       "mean   5.682055e+05  1.494355e+09  5.130175e+05  9.485632e-01  5.143678e-02\n",
       "std    3.297502e+05  1.987553e+05  2.183782e+05  2.208869e-01  2.208869e-01\n",
       "min    1.000000e+00  1.494000e+09  1.000000e+00  0.000000e+00  0.000000e+00\n",
       "25%    2.829190e+05  1.494171e+09  3.606780e+05  1.000000e+00  0.000000e+00\n",
       "50%    5.649520e+05  1.494345e+09  5.638330e+05  1.000000e+00  0.000000e+00\n",
       "75%    8.521910e+05  1.494516e+09  6.867050e+05  1.000000e+00  0.000000e+00\n",
       "max    1.141729e+06  1.494691e+09  8.468110e+05  1.000000e+00  1.000000e+00"
      ]
     },
     "execution_count": 3,
     "metadata": {},
     "output_type": "execute_result"
    }
   ],
   "source": [
    "raw_sample_df.describe()"
   ]
  },
  {
   "cell_type": "code",
   "execution_count": 4,
   "id": "a1dd42e5-2703-4c12-8443-cbdc7d69b164",
   "metadata": {},
   "outputs": [
    {
     "data": {
      "text/html": [
       "<div>\n",
       "<style scoped>\n",
       "    .dataframe tbody tr th:only-of-type {\n",
       "        vertical-align: middle;\n",
       "    }\n",
       "\n",
       "    .dataframe tbody tr th {\n",
       "        vertical-align: top;\n",
       "    }\n",
       "\n",
       "    .dataframe thead th {\n",
       "        text-align: right;\n",
       "    }\n",
       "</style>\n",
       "<table border=\"1\" class=\"dataframe\">\n",
       "  <thead>\n",
       "    <tr style=\"text-align: right;\">\n",
       "      <th></th>\n",
       "      <th>user</th>\n",
       "      <th>time_stamp</th>\n",
       "      <th>adgroup_id</th>\n",
       "      <th>pid</th>\n",
       "      <th>nonclk</th>\n",
       "      <th>clk</th>\n",
       "    </tr>\n",
       "  </thead>\n",
       "  <tbody>\n",
       "    <tr>\n",
       "      <th>0</th>\n",
       "      <td>581738</td>\n",
       "      <td>1494137644</td>\n",
       "      <td>1</td>\n",
       "      <td>430548_1007</td>\n",
       "      <td>1</td>\n",
       "      <td>0</td>\n",
       "    </tr>\n",
       "    <tr>\n",
       "      <th>1</th>\n",
       "      <td>449818</td>\n",
       "      <td>1494638778</td>\n",
       "      <td>3</td>\n",
       "      <td>430548_1007</td>\n",
       "      <td>1</td>\n",
       "      <td>0</td>\n",
       "    </tr>\n",
       "    <tr>\n",
       "      <th>2</th>\n",
       "      <td>914836</td>\n",
       "      <td>1494650879</td>\n",
       "      <td>4</td>\n",
       "      <td>430548_1007</td>\n",
       "      <td>1</td>\n",
       "      <td>0</td>\n",
       "    </tr>\n",
       "    <tr>\n",
       "      <th>3</th>\n",
       "      <td>914836</td>\n",
       "      <td>1494651029</td>\n",
       "      <td>5</td>\n",
       "      <td>430548_1007</td>\n",
       "      <td>1</td>\n",
       "      <td>0</td>\n",
       "    </tr>\n",
       "    <tr>\n",
       "      <th>4</th>\n",
       "      <td>399907</td>\n",
       "      <td>1494302958</td>\n",
       "      <td>8</td>\n",
       "      <td>430548_1007</td>\n",
       "      <td>1</td>\n",
       "      <td>0</td>\n",
       "    </tr>\n",
       "  </tbody>\n",
       "</table>\n",
       "</div>"
      ],
      "text/plain": [
       "     user  time_stamp  adgroup_id          pid  nonclk  clk\n",
       "0  581738  1494137644           1  430548_1007       1    0\n",
       "1  449818  1494638778           3  430548_1007       1    0\n",
       "2  914836  1494650879           4  430548_1007       1    0\n",
       "3  914836  1494651029           5  430548_1007       1    0\n",
       "4  399907  1494302958           8  430548_1007       1    0"
      ]
     },
     "execution_count": 4,
     "metadata": {},
     "output_type": "execute_result"
    }
   ],
   "source": [
    "raw_sample_df.head()"
   ]
  },
  {
   "cell_type": "code",
   "execution_count": 5,
   "id": "d1f01892-ccd6-42df-a8cd-4627a0c04e2a",
   "metadata": {},
   "outputs": [],
   "source": [
    "raw_sample_df['clicked'] = raw_sample_df['clk']\n",
    "raw_sample_df.drop(['clk','nonclk'], axis=1, inplace=True)"
   ]
  },
  {
   "cell_type": "code",
   "execution_count": 6,
   "id": "23433d22-16fd-4729-bfde-4403daaeee6e",
   "metadata": {},
   "outputs": [
    {
     "name": "stdout",
     "output_type": "stream",
     "text": [
      "<class 'pandas.core.frame.DataFrame'>\n",
      "RangeIndex: 26557961 entries, 0 to 26557960\n",
      "Data columns (total 5 columns):\n",
      " #   Column      Dtype \n",
      "---  ------      ----- \n",
      " 0   user        int64 \n",
      " 1   time_stamp  int64 \n",
      " 2   adgroup_id  int64 \n",
      " 3   pid         object\n",
      " 4   clicked     int64 \n",
      "dtypes: int64(4), object(1)\n",
      "memory usage: 1013.1+ MB\n"
     ]
    }
   ],
   "source": [
    "raw_sample_df.info()"
   ]
  },
  {
   "cell_type": "code",
   "execution_count": 7,
   "id": "88889aeb-5409-42d0-b543-d48066c3a2ea",
   "metadata": {},
   "outputs": [],
   "source": [
    "raw_sample_df['datetime'] = pd.to_datetime(raw_sample_df['time_stamp'], unit='s')\n",
    "raw_sample_df.drop('time_stamp', axis=1, inplace=True)"
   ]
  },
  {
   "cell_type": "code",
   "execution_count": 8,
   "id": "fb93c8c5-3cfa-4a2c-8865-790182ab562c",
   "metadata": {},
   "outputs": [],
   "source": [
    "raw_sample_df['hour'] = raw_sample_df['datetime'].dt.hour\n",
    "raw_sample_df['weekday'] = raw_sample_df['datetime'].dt.weekday"
   ]
  },
  {
   "cell_type": "code",
   "execution_count": 9,
   "id": "31853e8a-0a91-4d32-a58c-d2c1e06f08d0",
   "metadata": {},
   "outputs": [
    {
     "data": {
      "text/html": [
       "<div>\n",
       "<style scoped>\n",
       "    .dataframe tbody tr th:only-of-type {\n",
       "        vertical-align: middle;\n",
       "    }\n",
       "\n",
       "    .dataframe tbody tr th {\n",
       "        vertical-align: top;\n",
       "    }\n",
       "\n",
       "    .dataframe thead th {\n",
       "        text-align: right;\n",
       "    }\n",
       "</style>\n",
       "<table border=\"1\" class=\"dataframe\">\n",
       "  <thead>\n",
       "    <tr style=\"text-align: right;\">\n",
       "      <th></th>\n",
       "      <th>user</th>\n",
       "      <th>adgroup_id</th>\n",
       "      <th>pid</th>\n",
       "      <th>clicked</th>\n",
       "      <th>datetime</th>\n",
       "      <th>hour</th>\n",
       "      <th>weekday</th>\n",
       "    </tr>\n",
       "  </thead>\n",
       "  <tbody>\n",
       "    <tr>\n",
       "      <th>0</th>\n",
       "      <td>581738</td>\n",
       "      <td>1</td>\n",
       "      <td>430548_1007</td>\n",
       "      <td>0</td>\n",
       "      <td>2017-05-07 06:14:04</td>\n",
       "      <td>6</td>\n",
       "      <td>6</td>\n",
       "    </tr>\n",
       "    <tr>\n",
       "      <th>1</th>\n",
       "      <td>449818</td>\n",
       "      <td>3</td>\n",
       "      <td>430548_1007</td>\n",
       "      <td>0</td>\n",
       "      <td>2017-05-13 01:26:18</td>\n",
       "      <td>1</td>\n",
       "      <td>5</td>\n",
       "    </tr>\n",
       "    <tr>\n",
       "      <th>2</th>\n",
       "      <td>914836</td>\n",
       "      <td>4</td>\n",
       "      <td>430548_1007</td>\n",
       "      <td>0</td>\n",
       "      <td>2017-05-13 04:47:59</td>\n",
       "      <td>4</td>\n",
       "      <td>5</td>\n",
       "    </tr>\n",
       "    <tr>\n",
       "      <th>3</th>\n",
       "      <td>914836</td>\n",
       "      <td>5</td>\n",
       "      <td>430548_1007</td>\n",
       "      <td>0</td>\n",
       "      <td>2017-05-13 04:50:29</td>\n",
       "      <td>4</td>\n",
       "      <td>5</td>\n",
       "    </tr>\n",
       "    <tr>\n",
       "      <th>4</th>\n",
       "      <td>399907</td>\n",
       "      <td>8</td>\n",
       "      <td>430548_1007</td>\n",
       "      <td>0</td>\n",
       "      <td>2017-05-09 04:09:18</td>\n",
       "      <td>4</td>\n",
       "      <td>1</td>\n",
       "    </tr>\n",
       "  </tbody>\n",
       "</table>\n",
       "</div>"
      ],
      "text/plain": [
       "     user  adgroup_id          pid  clicked            datetime  hour  weekday\n",
       "0  581738           1  430548_1007        0 2017-05-07 06:14:04     6        6\n",
       "1  449818           3  430548_1007        0 2017-05-13 01:26:18     1        5\n",
       "2  914836           4  430548_1007        0 2017-05-13 04:47:59     4        5\n",
       "3  914836           5  430548_1007        0 2017-05-13 04:50:29     4        5\n",
       "4  399907           8  430548_1007        0 2017-05-09 04:09:18     4        1"
      ]
     },
     "execution_count": 9,
     "metadata": {},
     "output_type": "execute_result"
    }
   ],
   "source": [
    "raw_sample_df.head()"
   ]
  },
  {
   "cell_type": "code",
   "execution_count": 10,
   "id": "1780f20a-4697-4cca-b549-2fd4c1b99d67",
   "metadata": {},
   "outputs": [
    {
     "data": {
      "text/plain": [
       "user          0\n",
       "adgroup_id    0\n",
       "pid           0\n",
       "clicked       0\n",
       "datetime      0\n",
       "hour          0\n",
       "weekday       0\n",
       "dtype: int64"
      ]
     },
     "execution_count": 10,
     "metadata": {},
     "output_type": "execute_result"
    }
   ],
   "source": [
    "raw_sample_df.isnull().sum()"
   ]
  },
  {
   "cell_type": "code",
   "execution_count": 11,
   "id": "624c99f4-f192-4510-a855-792687ad106c",
   "metadata": {},
   "outputs": [
    {
     "name": "stdout",
     "output_type": "stream",
     "text": [
      "<class 'pandas.core.frame.DataFrame'>\n",
      "RangeIndex: 26557961 entries, 0 to 26557960\n",
      "Data columns (total 7 columns):\n",
      " #   Column      Dtype         \n",
      "---  ------      -----         \n",
      " 0   user        uint32        \n",
      " 1   adgroup_id  uint32        \n",
      " 2   pid         category      \n",
      " 3   clicked     uint8         \n",
      " 4   datetime    datetime64[ns]\n",
      " 5   hour        int32         \n",
      " 6   weekday     int32         \n",
      "dtypes: category(1), datetime64[ns](1), int32(2), uint32(2), uint8(1)\n",
      "memory usage: 658.5 MB\n"
     ]
    }
   ],
   "source": [
    "for col in raw_sample_df.select_dtypes(include=['int64']).columns:\n",
    "    raw_sample_df[col] = pd.to_numeric(raw_sample_df[col], downcast='unsigned')\n",
    "\n",
    "for col in raw_sample_df.select_dtypes(include=['float64']).columns:\n",
    "    raw_sample_df[col] = pd.to_numeric(raw_sample_df[col], downcast='float')\n",
    "\n",
    "raw_sample_df[\"pid\"] = raw_sample_df[\"pid\"].astype(\"category\")\n",
    "\n",
    "raw_sample_df.info()"
   ]
  },
  {
   "cell_type": "code",
   "execution_count": 12,
   "id": "e180e5c6-5fa1-4694-82d6-4f0e98ee3d49",
   "metadata": {},
   "outputs": [],
   "source": [
    "import os\n",
    "os.makedirs('preprocessed', exist_ok=True)\n",
    "raw_sample_df.to_csv('preprocessed/raw_sample_final.csv', index=False)"
   ]
  }
 ],
 "metadata": {
  "kernelspec": {
   "display_name": "Python 3 (ipykernel)",
   "language": "python",
   "name": "python3"
  },
  "language_info": {
   "codemirror_mode": {
    "name": "ipython",
    "version": 3
   },
   "file_extension": ".py",
   "mimetype": "text/x-python",
   "name": "python",
   "nbconvert_exporter": "python",
   "pygments_lexer": "ipython3",
   "version": "3.12.3"
  }
 },
 "nbformat": 4,
 "nbformat_minor": 5
}
